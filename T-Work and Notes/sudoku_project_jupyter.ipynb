{
 "cells": [
  {
   "cell_type": "code",
   "execution_count": 2,
   "metadata": {
    "collapsed": true
   },
   "outputs": [],
   "source": [
    "from utils import *"
   ]
  },
  {
   "cell_type": "code",
   "execution_count": 5,
   "metadata": {},
   "outputs": [
    {
     "name": "stdout",
     "output_type": "stream",
     "text": [
      "[['A1', 'A2', 'A3', 'A4', 'A5', 'A6', 'A7', 'A8', 'A9'], ['B1', 'B2', 'B3', 'B4', 'B5', 'B6', 'B7', 'B8', 'B9'], ['C1', 'C2', 'C3', 'C4', 'C5', 'C6', 'C7', 'C8', 'C9'], ['D1', 'D2', 'D3', 'D4', 'D5', 'D6', 'D7', 'D8', 'D9'], ['E1', 'E2', 'E3', 'E4', 'E5', 'E6', 'E7', 'E8', 'E9'], ['F1', 'F2', 'F3', 'F4', 'F5', 'F6', 'F7', 'F8', 'F9'], ['G1', 'G2', 'G3', 'G4', 'G5', 'G6', 'G7', 'G8', 'G9'], ['H1', 'H2', 'H3', 'H4', 'H5', 'H6', 'H7', 'H8', 'H9'], ['I1', 'I2', 'I3', 'I4', 'I5', 'I6', 'I7', 'I8', 'I9'], ['A1', 'B1', 'C1', 'D1', 'E1', 'F1', 'G1', 'H1', 'I1'], ['A2', 'B2', 'C2', 'D2', 'E2', 'F2', 'G2', 'H2', 'I2'], ['A3', 'B3', 'C3', 'D3', 'E3', 'F3', 'G3', 'H3', 'I3'], ['A4', 'B4', 'C4', 'D4', 'E4', 'F4', 'G4', 'H4', 'I4'], ['A5', 'B5', 'C5', 'D5', 'E5', 'F5', 'G5', 'H5', 'I5'], ['A6', 'B6', 'C6', 'D6', 'E6', 'F6', 'G6', 'H6', 'I6'], ['A7', 'B7', 'C7', 'D7', 'E7', 'F7', 'G7', 'H7', 'I7'], ['A8', 'B8', 'C8', 'D8', 'E8', 'F8', 'G8', 'H8', 'I8'], ['A9', 'B9', 'C9', 'D9', 'E9', 'F9', 'G9', 'H9', 'I9'], ['A1', 'A2', 'A3', 'B1', 'B2', 'B3', 'C1', 'C2', 'C3'], ['A4', 'A5', 'A6', 'B4', 'B5', 'B6', 'C4', 'C5', 'C6'], ['A7', 'A8', 'A9', 'B7', 'B8', 'B9', 'C7', 'C8', 'C9'], ['D1', 'D2', 'D3', 'E1', 'E2', 'E3', 'F1', 'F2', 'F3'], ['D4', 'D5', 'D6', 'E4', 'E5', 'E6', 'F4', 'F5', 'F6'], ['D7', 'D8', 'D9', 'E7', 'E8', 'E9', 'F7', 'F8', 'F9'], ['G1', 'G2', 'G3', 'H1', 'H2', 'H3', 'I1', 'I2', 'I3'], ['G4', 'G5', 'G6', 'H4', 'H5', 'H6', 'I4', 'I5', 'I6'], ['G7', 'G8', 'G9', 'H7', 'H8', 'H9', 'I7', 'I8', 'I9'], ['A1', 'B2', 'C3', 'D4', 'E5', 'F6', 'G7', 'H8', 'I9'], ['A9', 'B8', 'C7', 'D6', 'E5', 'F4', 'G3', 'H2', 'I1']]\n"
     ]
    }
   ],
   "source": [
    "row_units = [cross(r, cols) for r in rows]\n",
    "column_units = [cross(rows, c) for c in cols]\n",
    "square_units = [cross(rs, cs) for rs in ('ABC','DEF','GHI') for cs in ('123','456','789')]\n",
    "unitlist = row_units + column_units + square_units\n",
    "\n",
    "# TODO: Update the unit list to add the new diagonal units\n",
    "diagonal_units_ltr = [[rows[i]+cols[i] for i in range(9)]]\n",
    "diagonal_units_rtl = [[rows[-(i+1)]+cols[i] for i in range(9)]]\n",
    "unitlist = unitlist + diagonal_units_ltr + diagonal_units_rtl\n",
    "\n",
    "units = dict((s, [u for u in unitlist if s in u]) for s in boxes)\n",
    "peers = dict((s, set(sum(units[s],[]))-set([s])) for s in boxes)"
   ]
  },
  {
   "cell_type": "code",
   "execution_count": 81,
   "metadata": {
    "collapsed": true
   },
   "outputs": [],
   "source": [
    "def naked_twins(values):\n",
    "    \"\"\"Eliminate values using the naked twins strategy.\n",
    "\n",
    "    Parameters\n",
    "    ----------\n",
    "    values(dict)\n",
    "        a dictionary of the form {'box_name': '123456789', ...}\n",
    "\n",
    "    Returns\n",
    "    -------\n",
    "    dict\n",
    "        The values dictionary with the naked twins eliminated from peers\n",
    "\n",
    "    Notes\n",
    "    -----\n",
    "    Your solution can either process all pairs of naked twins from the input once,\n",
    "    or it can continue processing pairs of naked twins until there are no such\n",
    "    pairs remaining -- the project assistant test suite will accept either\n",
    "    convention. However, it will not accept code that does not process all pairs\n",
    "    of naked twins from the original input. (For example, if you start processing\n",
    "    pairs of twins and eliminate another pair of twins before the second pair\n",
    "    is processed then your code will fail the PA test suite.)\n",
    "\n",
    "    The first convention is preferred for consistency with the other strategies,\n",
    "    and because it is simpler (since the reduce_puzzle function already calls this\n",
    "    strategy repeatedly).\n",
    "    \"\"\"\n",
    "\n",
    "    for unit in unitlist:\n",
    "        naked_twins = sorted([sorted([box_a, box_b]) for box_a in unit for box_b in unit if values[box_a] == values[box_b] and len(values[box_a]) == 2 and box_a != box_b])\n",
    "        # because there are duplicates in the list, take every other index\n",
    "        naked_twins = [naked_twins[i] for i in range(0,len(naked_twins),2)]\n",
    "        if naked_twins != []:\n",
    "            for pair in naked_twins:\n",
    "                digits = values[pair[0]]\n",
    "                for box in unit:\n",
    "                    if box not in pair:\n",
    "                        values[box] = values[box].replace(digits[0], \"\")\n",
    "                        values[box] = values[box].replace(digits[1], \"\")\n",
    "\n",
    "    return values"
   ]
  },
  {
   "cell_type": "code",
   "execution_count": 49,
   "metadata": {
    "collapsed": true
   },
   "outputs": [],
   "source": [
    "def eliminate(values):\n",
    "    \"\"\"Apply the eliminate strategy to a Sudoku puzzle\n",
    "\n",
    "    The eliminate strategy says that if a box has a value assigned, then none\n",
    "    of the peers of that box can have the same value.\n",
    "\n",
    "    Parameters\n",
    "    ----------\n",
    "    values(dict)\n",
    "        a dictionary of the form {'box_name': '123456789', ...}\n",
    "\n",
    "    Returns\n",
    "    -------\n",
    "    dict\n",
    "        The values dictionary with the assigned values eliminated from peers\n",
    "    \"\"\"\n",
    "    for box, value in values.items():\n",
    "        if len(value) == 1:\n",
    "            for peer in peers[box]:\n",
    "                values[peer] = values[peer].replace(value, \"\")\n",
    "    return values"
   ]
  },
  {
   "cell_type": "code",
   "execution_count": 50,
   "metadata": {
    "collapsed": true
   },
   "outputs": [],
   "source": [
    "def only_choice(values):\n",
    "    \"\"\"Apply the only choice strategy to a Sudoku puzzle\n",
    "\n",
    "    The only choice strategy says that if only one box in a unit allows a certain\n",
    "    digit, then that box must be assigned that digit.\n",
    "\n",
    "    Parameters\n",
    "    ----------\n",
    "    values(dict)\n",
    "        a dictionary of the form {'box_name': '123456789', ...}\n",
    "\n",
    "    Returns\n",
    "    -------\n",
    "    dict\n",
    "        The values dictionary with all single-valued boxes assigned\n",
    "\n",
    "    Notes\n",
    "    -----\n",
    "    You should be able to complete this function by copying your code from the classroom\n",
    "    \"\"\"\n",
    "    for unit in unitlist:\n",
    "        for digit in '123456789':\n",
    "            occurrences = [box for box in unit if digit in values[box]]\n",
    "            if len(occurrences) == 1:\n",
    "                values[occurrences[0]] = digit\n",
    "    return values"
   ]
  },
  {
   "cell_type": "code",
   "execution_count": 51,
   "metadata": {
    "collapsed": true
   },
   "outputs": [],
   "source": [
    "def reduce_puzzle(values):\n",
    "    \"\"\"Reduce a Sudoku puzzle by repeatedly applying all constraint strategies\n",
    "\n",
    "    Parameters\n",
    "    ----------\n",
    "    values(dict)\n",
    "        a dictionary of the form {'box_name': '123456789', ...}\n",
    "\n",
    "    Returns\n",
    "    -------\n",
    "    dict or False\n",
    "        The values dictionary after continued application of the constraint strategies\n",
    "        no longer produces any changes, or False if the puzzle is unsolvable \n",
    "    \"\"\"\n",
    "    solved_values = [box for box in values.keys() if len(values[box]) == 1]\n",
    "    stalled = False\n",
    "    while not stalled:\n",
    "        solved_values_before = len([box for box in values.keys() if len(values[box]) == 1])\n",
    "        values = eliminate(values)\n",
    "        values = only_choice(values)\n",
    "        values = naked_twins(values)\n",
    "        solved_values_after = len([box for box in values.keys() if len(values[box]) == 1])\n",
    "        stalled = solved_values_before == solved_values_after\n",
    "        if len([box for box in values.keys() if len(values[box]) == 0]):\n",
    "            return False\n",
    "    return values"
   ]
  },
  {
   "cell_type": "code",
   "execution_count": 52,
   "metadata": {
    "collapsed": true
   },
   "outputs": [],
   "source": [
    "def search(values):\n",
    "    \"\"\"Apply depth first search to solve Sudoku puzzles in order to solve puzzles\n",
    "    that cannot be solved by repeated reduction alone.\n",
    "\n",
    "    Parameters\n",
    "    ----------\n",
    "    values(dict)\n",
    "        a dictionary of the form {'box_name': '123456789', ...}\n",
    "\n",
    "    Returns\n",
    "    -------\n",
    "    dict or False\n",
    "        The values dictionary with all boxes assigned or False\n",
    "\n",
    "    Notes\n",
    "    -----\n",
    "    You should be able to complete this function by copying your code from the classroom\n",
    "    and extending it to call the naked twins strategy.\n",
    "    \"\"\"\n",
    "    # First, reduce the puzzle using the previous function\n",
    "    values = reduce_puzzle(values)\n",
    "    if values == False:\n",
    "        return False\n",
    "    if all(len(values[box]) == 1 for box in boxes):\n",
    "        return values\n",
    "    # Choose one of the unfilled squares with the fewest possibilities\n",
    "    min_val = 9\n",
    "    min_box = None\n",
    "    for box, value in values.items():\n",
    "        if 1 < len(value) < min_val:\n",
    "            min_val = len(value)\n",
    "            min_box = box\n",
    "    # Now use recursion to solve each one of the resulting sudokus, and if one returns a value (not False), return that answer!\n",
    "    for value in values[min_box]:\n",
    "        #try each value\n",
    "        search_values = values.copy()\n",
    "        search_values[min_box] = value\n",
    "        search_returned = search(search_values)\n",
    "        if search_returned:\n",
    "            return search_returned"
   ]
  },
  {
   "cell_type": "code",
   "execution_count": 53,
   "metadata": {
    "collapsed": true
   },
   "outputs": [],
   "source": [
    "def solve(grid):\n",
    "    \"\"\"Find the solution to a Sudoku puzzle using search and constraint propagation\n",
    "\n",
    "    Parameters\n",
    "    ----------\n",
    "    grid(string)\n",
    "        a string representing a sudoku grid.\n",
    "        \n",
    "        Ex. '2.............62....1....7...6..8...3...9...7...6..4...4....8....52.............3'\n",
    "\n",
    "    Returns\n",
    "    -------\n",
    "    dict or False\n",
    "        The dictionary representation of the final sudoku grid or False if no solution exists.\n",
    "    \"\"\"\n",
    "    values = grid2values(grid)\n",
    "    values = search(values)\n",
    "    return values"
   ]
  },
  {
   "cell_type": "code",
   "execution_count": 82,
   "metadata": {},
   "outputs": [
    {
     "name": "stdout",
     "output_type": "stream",
     "text": [
      "    2     123456789 123456789 |123456789 123456789 123456789 |123456789 123456789 123456789 \n",
      "123456789 123456789 123456789 |123456789 123456789     6     |    2     123456789 123456789 \n",
      "123456789 123456789     1     |123456789 123456789 123456789 |123456789     7     123456789 \n",
      "------------------------------+------------------------------+------------------------------\n",
      "123456789 123456789     6     |123456789 123456789     8     |123456789 123456789 123456789 \n",
      "    3     123456789 123456789 |123456789     9     123456789 |123456789 123456789     7     \n",
      "123456789 123456789 123456789 |    6     123456789 123456789 |    4     123456789 123456789 \n",
      "------------------------------+------------------------------+------------------------------\n",
      "123456789     4     123456789 |123456789 123456789 123456789 |    8     123456789 123456789 \n",
      "123456789 123456789     5     |    2     123456789 123456789 |123456789 123456789 123456789 \n",
      "123456789 123456789 123456789 |123456789 123456789 123456789 |123456789 123456789     3     \n",
      "\n",
      "2 6 7 |9 4 5 |3 8 1 \n",
      "8 5 3 |7 1 6 |2 4 9 \n",
      "4 9 1 |8 2 3 |5 7 6 \n",
      "------+------+------\n",
      "5 7 6 |4 3 8 |1 9 2 \n",
      "3 8 4 |1 9 2 |6 5 7 \n",
      "1 2 9 |6 5 7 |4 3 8 \n",
      "------+------+------\n",
      "6 4 2 |3 7 9 |8 1 5 \n",
      "9 3 5 |2 8 1 |7 6 4 \n",
      "7 1 8 |5 6 4 |9 2 3 \n",
      "\n",
      "We could not visualize your board due to a pygame issue. Not a problem! It is not a requirement.\n"
     ]
    }
   ],
   "source": [
    "if __name__ == \"__main__\":\n",
    "    diag_sudoku_grid = '2.............62....1....7...6..8...3...9...7...6..4...4....8....52.............3'\n",
    "    display(grid2values(diag_sudoku_grid))\n",
    "    result = solve(diag_sudoku_grid)\n",
    "    display(result)\n",
    "\n",
    "    try:\n",
    "        import PySudoku\n",
    "        PySudoku.play(grid2values(diag_sudoku_grid), result, history)\n",
    "\n",
    "    except SystemExit:\n",
    "        pass\n",
    "    except:\n",
    "        print('We could not visualize your board due to a pygame issue. Not a problem! It is not a requirement.')"
   ]
  },
  {
   "cell_type": "code",
   "execution_count": null,
   "metadata": {
    "collapsed": true
   },
   "outputs": [],
   "source": []
  }
 ],
 "metadata": {
  "kernelspec": {
   "display_name": "Python 3",
   "language": "python",
   "name": "python3"
  },
  "language_info": {
   "codemirror_mode": {
    "name": "ipython",
    "version": 3
   },
   "file_extension": ".py",
   "mimetype": "text/x-python",
   "name": "python",
   "nbconvert_exporter": "python",
   "pygments_lexer": "ipython3",
   "version": "3.6.1"
  }
 },
 "nbformat": 4,
 "nbformat_minor": 2
}
